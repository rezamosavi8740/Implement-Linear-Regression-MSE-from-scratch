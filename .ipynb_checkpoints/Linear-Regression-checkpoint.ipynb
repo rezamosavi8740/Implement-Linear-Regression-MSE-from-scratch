{
 "cells": [
  {
   "cell_type": "code",
   "execution_count": 22,
   "id": "ae59f57e",
   "metadata": {},
   "outputs": [],
   "source": [
    "import numpy as np\n",
    "import pandas as pd \n",
    "from sklearn.model_selection import train_test_split\n",
    "from sklearn.linear_model import LinearRegression\n",
    "from sklearn import datasets, linear_model\n",
    "import matplotlib.pyplot as plt\n",
    "from sklearn.metrics import mean_squared_error\n",
    "from sklearn.metrics import r2_score"
   ]
  },
  {
   "cell_type": "code",
   "execution_count": 31,
   "id": "6b3a438b",
   "metadata": {},
   "outputs": [],
   "source": [
    "class LinearRegression() :\n",
    "    def __init__( self, learning_rate, iterations ) :\n",
    "\n",
    "        self.learning_rate = learning_rate\n",
    "\n",
    "        self.iterations = iterations\n",
    "\n",
    "\n",
    "    def fit( self, X, Y ) :\n",
    "\n",
    "        self.m, self.n = X.shape\n",
    "\n",
    "        self.W = np.zeros( self.n )\n",
    "\n",
    "        self.b = 0\n",
    "\n",
    "        self.X = X\n",
    "\n",
    "        self.Y = Y\n",
    "\n",
    "\n",
    "        # gradient descent learning\n",
    "\n",
    "        for i in range( self.iterations ) :\n",
    "\n",
    "            self.update_weights()\n",
    "\n",
    "        return self\n",
    "\n",
    "    # Helper function to update weights in gradient descent\n",
    "\n",
    "    def update_weights( self ) :\n",
    "\n",
    "        Y_pred = self.predict( self.X )\n",
    "\n",
    "        # calculate gradients\n",
    "\n",
    "        dW = - ( 2 * ( self.X.T ).dot( self.Y - Y_pred ) ) / self.m\n",
    "\n",
    "        db = - 2 * np.sum( self.Y - Y_pred ) / self.m\n",
    "\n",
    "        # update weights\n",
    "\n",
    "        self.W = self.W - self.learning_rate * dW\n",
    "\n",
    "        self.b = self.b - self.learning_rate * db\n",
    "\n",
    "        return self\n",
    "    \n",
    "\n",
    "    # Hypothetical function h( x )\n",
    "\n",
    "    def predict( self, X ) :\n",
    "\n",
    "        return X.dot( self.W ) + self.b\n"
   ]
  },
  {
   "cell_type": "code",
   "execution_count": 32,
   "id": "c6eec4de",
   "metadata": {},
   "outputs": [],
   "source": [
    "X, Y = datasets.load_diabetes(return_X_y=True)\n",
    "\n",
    "X_train, X_test, Y_train, Y_test = train_test_split(\n",
    "X, Y, test_size = 1/3, random_state = 0 )"
   ]
  },
  {
   "cell_type": "code",
   "execution_count": 36,
   "id": "0cca4e33",
   "metadata": {},
   "outputs": [
    {
     "data": {
      "text/plain": [
       "array([218.94093885, 224.51155094, 164.68477411, 120.78242496,\n",
       "       164.70662825, 224.97007042, 112.4127338 , 187.68310741,\n",
       "       135.46513811, 197.68687209, 143.94009155, 184.11299163,\n",
       "       113.43980901,  90.06603519, 238.43287723, 102.45460681,\n",
       "       141.49670878,  73.73064035,  92.49672892, 214.8954532 ,\n",
       "       175.27518068, 142.50326513, 159.94454602, 137.13600561,\n",
       "       190.36153632, 162.27457172, 119.33517463,  93.1054184 ,\n",
       "       172.33060313, 166.1494965 , 178.63970062,  91.34073627,\n",
       "       131.79222802, 142.0618672 , 156.01482814, 181.31087165,\n",
       "       160.55952108, 183.67454247, 135.64125167, 192.65897031,\n",
       "        93.78706515, 173.28109853, 149.12503769, 165.56487884,\n",
       "       183.96279236,  84.72848588, 134.58030869, 137.38314985,\n",
       "       140.2638873 , 217.24145415, 153.10783433,  92.32306148,\n",
       "       152.56230472, 163.18335689, 208.3050407 , 181.82639182,\n",
       "       186.63480658, 104.11718509, 151.94328222, 174.78943615,\n",
       "       183.27942657, 151.98964959, 160.32216427, 132.93771792,\n",
       "       228.28505788, 142.45111117,  88.57044402, 226.73412515,\n",
       "       194.0798885 ,  65.00179093,  89.59233166, 148.62544371,\n",
       "       114.72660364, 132.56294869, 135.03339218, 186.79355218,\n",
       "       130.8170384 , 203.79331217, 220.82774553, 181.93292006,\n",
       "       152.43023247, 203.1362406 ,  78.87237794, 209.67984779,\n",
       "        87.37273556, 104.79727882, 130.56639501, 184.42481685,\n",
       "       133.95069566, 159.31379898,  90.0968958 , 130.72277974,\n",
       "        87.24729837, 157.97945708, 126.36343736, 111.22877531,\n",
       "       214.9584635 , 203.92726593, 137.61394039, 164.52558465,\n",
       "       178.96548528,  91.15258487, 203.63731396, 112.056618  ,\n",
       "       206.99363972, 144.52460855, 214.63358254, 245.25741402,\n",
       "       117.27209487, 125.06269734, 187.39441948, 116.23414784,\n",
       "       173.39598268, 106.63934982, 100.91914351, 199.95915794,\n",
       "       221.43987261, 120.76037346, 243.92182764, 136.66826593,\n",
       "       138.1504313 , 121.68354172,  83.58956163, 215.99333489,\n",
       "       116.67065074, 136.44152134, 196.9501993 , 173.93472792,\n",
       "       172.31333501, 183.44771305, 194.90416513, 120.78140308,\n",
       "       168.30924903, 170.03376866,  84.52455377, 173.43342351,\n",
       "       259.91170461, 115.04863433,  75.60472528, 132.57902892,\n",
       "       105.49380312, 243.18084987, 163.64867836, 102.65003829,\n",
       "       122.8332409 , 107.5249852 ,  67.79219194,  90.57467754])"
      ]
     },
     "execution_count": 36,
     "metadata": {},
     "output_type": "execute_result"
    }
   ],
   "source": [
    "model = LinearRegression( iterations = 10000, learning_rate = 0.02 )\n",
    "\n",
    "model.fit( X_train, Y_train )\n",
    "\n",
    "Y_pred_form_scratch = model.predict( X_test )\n",
    "\n",
    "Y_pred_form_scratch\n"
   ]
  },
  {
   "cell_type": "code",
   "execution_count": 37,
   "id": "0f1767a3",
   "metadata": {},
   "outputs": [
    {
     "data": {
      "text/plain": [
       "3043.1858597336154"
      ]
     },
     "execution_count": 37,
     "metadata": {},
     "output_type": "execute_result"
    }
   ],
   "source": [
    "mean_squared_error(Y_test ,Y_pred_form_scratch)"
   ]
  },
  {
   "cell_type": "code",
   "execution_count": 38,
   "id": "91d4e34b",
   "metadata": {},
   "outputs": [
    {
     "data": {
      "text/plain": [
       "0.4175748730201949"
      ]
     },
     "execution_count": 38,
     "metadata": {},
     "output_type": "execute_result"
    }
   ],
   "source": [
    "r2_score(Y_test ,Y_pred_form_scratch)"
   ]
  },
  {
   "cell_type": "code",
   "execution_count": 24,
   "id": "b8fade6d",
   "metadata": {},
   "outputs": [
    {
     "data": {
      "text/plain": [
       "array([241.98073641, 248.66380329, 164.91631668, 116.37505031,\n",
       "       183.25942256, 261.66025126, 111.05791567, 193.1455696 ,\n",
       "       147.38651924, 235.90565664, 169.28929151, 179.37929767,\n",
       "       110.97383129,  88.8040722 , 243.48735862,  87.97788669,\n",
       "       153.01598823,  61.29893439,  96.04330665, 212.98352763,\n",
       "       198.11314059, 162.20819791, 164.42149276, 157.10448763,\n",
       "       202.43933436, 169.15942355, 116.85919727,  82.88866077,\n",
       "       189.98073803, 163.17684512, 177.64172371,  78.76260916,\n",
       "       142.13277902, 144.24096242, 141.53022675, 194.59572759,\n",
       "       163.08683664, 186.5226017 , 126.21864797, 205.74365268,\n",
       "        81.05586327, 166.1024561 , 146.20275395, 184.18743404,\n",
       "       174.73590951,  69.46230813, 141.80928152, 137.81063643,\n",
       "       123.43079951, 232.93571652, 163.05779265,  75.64517249,\n",
       "       150.9730577 , 158.43889235, 237.36659622, 172.00701341,\n",
       "       188.1437995 , 117.33496085, 129.24128943, 175.05257349,\n",
       "       214.62431407, 169.97865024, 151.32635457, 112.42302143,\n",
       "       258.97428449, 154.38770608,  80.72722424, 223.98252759,\n",
       "       203.13209872,  45.56824961,  75.40857151, 134.450695  ,\n",
       "       107.46317064, 143.48353301, 133.74352467, 187.9594178 ,\n",
       "       100.30807724, 203.14429147, 221.54079238, 188.96480799,\n",
       "       148.18417369, 210.07565254,  43.61034885, 208.42536074,\n",
       "        77.90077702,  92.67327118, 145.83178739, 193.86473885,\n",
       "       130.74372879, 151.20768015,  96.6199161 , 124.08774668,\n",
       "        82.1588619 , 153.44858704, 121.12385639, 103.61178483,\n",
       "       237.09232099, 225.37986367, 126.81949929, 165.69926523,\n",
       "       191.49129569, 109.77971465, 203.44607914,  83.56512159,\n",
       "       217.95818028, 111.47934708, 219.91801901, 267.65047799,\n",
       "       112.23017665, 114.88397869, 197.12251745, 119.21109382,\n",
       "       164.70210536, 100.99166558,  97.7137813 , 224.5052806 ,\n",
       "       238.99705939, 114.92499912, 296.77920911, 115.13274329,\n",
       "       130.01343361, 115.94719388,  64.39203224, 244.04422972,\n",
       "       102.94753708, 121.29175154, 204.81390355, 184.79756277,\n",
       "       194.17150117, 162.00625889, 191.97137726, 112.22889497,\n",
       "       168.3119885 , 157.80956104,  76.41206268, 181.30922558,\n",
       "       261.63444375,  90.88421763,  71.39146131, 110.45420646,\n",
       "        97.55276851, 248.55692148, 168.2119174 ,  90.78026684,\n",
       "       108.94434396, 101.33371642,  60.11832304, 101.17853636])"
      ]
     },
     "execution_count": 24,
     "metadata": {},
     "output_type": "execute_result"
    }
   ],
   "source": [
    "skModel = LinearRegression()\n",
    "skModel.fit(X_train ,Y_train)\n",
    "Y_p = skModel.predict(X_test)\n",
    "Y_p"
   ]
  },
  {
   "cell_type": "code",
   "execution_count": 28,
   "id": "ee5841c5",
   "metadata": {},
   "outputs": [
    {
     "data": {
      "text/plain": [
       "3113.6261169311606"
      ]
     },
     "execution_count": 28,
     "metadata": {},
     "output_type": "execute_result"
    }
   ],
   "source": [
    "mean_squared_error(Y_test ,Y_p)"
   ]
  },
  {
   "cell_type": "code",
   "execution_count": 29,
   "id": "f9763615",
   "metadata": {},
   "outputs": [
    {
     "data": {
      "text/plain": [
       "0.40409354863392766"
      ]
     },
     "execution_count": 29,
     "metadata": {},
     "output_type": "execute_result"
    }
   ],
   "source": [
    "r2_score(Y_test ,Y_p)"
   ]
  }
 ],
 "metadata": {
  "kernelspec": {
   "display_name": "Python 3 (ipykernel)",
   "language": "python",
   "name": "python3"
  },
  "language_info": {
   "codemirror_mode": {
    "name": "ipython",
    "version": 3
   },
   "file_extension": ".py",
   "mimetype": "text/x-python",
   "name": "python",
   "nbconvert_exporter": "python",
   "pygments_lexer": "ipython3",
   "version": "3.9.12"
  }
 },
 "nbformat": 4,
 "nbformat_minor": 5
}
